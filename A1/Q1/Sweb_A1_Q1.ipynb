{
  "nbformat": 4,
  "nbformat_minor": 0,
  "metadata": {
    "colab": {
      "provenance": []
    },
    "kernelspec": {
      "name": "python3",
      "display_name": "Python 3"
    },
    "language_info": {
      "name": "python"
    }
  },
  "cells": [
    {
      "cell_type": "code",
      "source": [
        "!pip install rdflib"
      ],
      "metadata": {
        "colab": {
          "base_uri": "https://localhost:8080/"
        },
        "id": "DkbVLu0h_XN-",
        "outputId": "7252b7d7-de03-4878-cae9-c584c64d021d"
      },
      "execution_count": null,
      "outputs": [
        {
          "output_type": "stream",
          "name": "stdout",
          "text": [
            "Requirement already satisfied: rdflib in /usr/local/lib/python3.10/dist-packages (7.0.0)\n",
            "Requirement already satisfied: isodate<0.7.0,>=0.6.0 in /usr/local/lib/python3.10/dist-packages (from rdflib) (0.6.1)\n",
            "Requirement already satisfied: pyparsing<4,>=2.1.0 in /usr/local/lib/python3.10/dist-packages (from rdflib) (3.1.1)\n",
            "Requirement already satisfied: six in /usr/local/lib/python3.10/dist-packages (from isodate<0.7.0,>=0.6.0->rdflib) (1.16.0)\n"
          ]
        }
      ]
    },
    {
      "cell_type": "code",
      "execution_count": null,
      "metadata": {
        "id": "CMZn2dVi9uzf"
      },
      "outputs": [],
      "source": [
        "from rdflib import Graph, Literal, Namespace\n",
        "from rdflib.namespace import RDF, RDFS"
      ]
    },
    {
      "cell_type": "code",
      "source": [
        "#Define the namespace\n",
        "ex = Namespace(\"https://iiitd.ac.in/course/sweb/student/\")\n",
        "ex"
      ],
      "metadata": {
        "colab": {
          "base_uri": "https://localhost:8080/",
          "height": 35
        },
        "id": "BzHd2BLp-1xk",
        "outputId": "6bc47809-b487-4db8-b306-37dc1d27b65a"
      },
      "execution_count": null,
      "outputs": [
        {
          "output_type": "execute_result",
          "data": {
            "text/plain": [
              "Namespace('https://iiitd.ac.in/course/sweb/student/')"
            ],
            "application/vnd.google.colaboratory.intrinsic+json": {
              "type": "string"
            }
          },
          "metadata": {},
          "execution_count": 116
        }
      ]
    },
    {
      "cell_type": "markdown",
      "source": [
        "Create an RDF Graph"
      ],
      "metadata": {
        "id": "g3-G7HL2AB90"
      }
    },
    {
      "cell_type": "code",
      "source": [
        "graph = Graph()"
      ],
      "metadata": {
        "id": "7Gt56cvU-10L"
      },
      "execution_count": null,
      "outputs": []
    },
    {
      "cell_type": "code",
      "source": [
        "\"\"\"Define classes (1. Student\n",
        "                   2. Course\n",
        "                   3. Professor\n",
        "                   4. Department\n",
        "                   5. ResearchGrp\n",
        "                   6. University )\n",
        "\"\"\"\n",
        "\n",
        "graph.add((ex.Student, RDF.type, RDFS.Class)) # Student Class\n",
        "graph.add((ex.Course, RDF.type, RDFS.Class)) # Course Class\n",
        "graph.add((ex.Professor, RDF.type, RDFS.Class)) # Professor Class\n",
        "graph.add((ex.Department, RDF.type, RDFS.Class)) # Department Class\n",
        "graph.add((ex.ResearchGrp, RDF.type, RDFS.Class)) # ResearchGrp Class\n",
        "graph.add((ex.University, RDF.type, RDFS.Class)) # University Class"
      ],
      "metadata": {
        "colab": {
          "base_uri": "https://localhost:8080/"
        },
        "id": "_cpWyJqH-12o",
        "outputId": "bcf59d44-8047-4b95-f943-0c195091fc9e"
      },
      "execution_count": null,
      "outputs": [
        {
          "output_type": "execute_result",
          "data": {
            "text/plain": [
              "<Graph identifier=N5618c2da2d7645b8b83a05f21d72b9fd (<class 'rdflib.graph.Graph'>)>"
            ]
          },
          "metadata": {},
          "execution_count": 118
        }
      ]
    },
    {
      "cell_type": "markdown",
      "source": [
        "Define Properties/Relationship of Classes\n"
      ],
      "metadata": {
        "id": "2DbgWbdW-16k"
      }
    },
    {
      "cell_type": "code",
      "source": [
        "graph.add((ex.advisor, RDF.type, RDF.Property))\n",
        "\n",
        "graph.add((ex.takes, RDF.type, RDF.Property))\n",
        "\n",
        "graph.add((ex.memberOf, RDF.type, RDF.Property))\n",
        "\n",
        "graph.add((ex.worksFor, RDF.type, RDF.Property))\n",
        "\n",
        "graph.add((ex.teaches, RDF.type, RDF.Property))\n",
        "\n",
        "graph.add((ex.subOrgOf, RDF.type, RDF.Property))"
      ],
      "metadata": {
        "colab": {
          "base_uri": "https://localhost:8080/"
        },
        "id": "hRkZzs-t-1-D",
        "outputId": "fd7f32a0-a498-460e-d284-b39f992b7518"
      },
      "execution_count": null,
      "outputs": [
        {
          "output_type": "execute_result",
          "data": {
            "text/plain": [
              "<Graph identifier=N5618c2da2d7645b8b83a05f21d72b9fd (<class 'rdflib.graph.Graph'>)>"
            ]
          },
          "metadata": {},
          "execution_count": 119
        }
      ]
    },
    {
      "cell_type": "markdown",
      "source": [
        "Defining the domain and ranges for above defined properties"
      ],
      "metadata": {
        "id": "OvTtM7SMIHe0"
      }
    },
    {
      "cell_type": "code",
      "source": [
        "# (Student, Professor)\n",
        "graph.add((ex.advisor, RDFS.domain, ex.Student))\n",
        "graph.add((ex.advisor, RDFS.range, ex.Professor))\n",
        "\n",
        "# (Student, Course)\n",
        "graph.add((ex.takes, RDFS.domain, ex.Student))\n",
        "graph.add((ex.takes, RDFS.range, ex.Course))\n",
        "\n",
        "# (Student, Department)\n",
        "graph.add((ex.memberOf, RDFS.domain, ex.Student))\n",
        "graph.add((ex.memberOf, RDFS.range, ex.Department))\n",
        "\n",
        "# (Professor, Department)\n",
        "graph.add((ex.worksFor, RDFS.domain, ex.Professor))\n",
        "graph.add((ex.worksFor, RDFS.range, ex.Department))\n",
        "\n",
        "# (Professor, Course)\n",
        "graph.add((ex.teaches, RDFS.domain, ex.Professor))\n",
        "graph.add((ex.teaches, RDFS.range, ex.Course))\n",
        "\n",
        "# (Department, ResearchGrp)\n",
        "graph.add((ex.subOrgOf, RDFS.domain, ex.Department))\n",
        "graph.add((ex.subOrgOf, RDFS.range, ex.ResearchGrp))"
      ],
      "metadata": {
        "colab": {
          "base_uri": "https://localhost:8080/"
        },
        "id": "jPQ_QSGkIHQb",
        "outputId": "6828da47-59d9-4f5a-c91a-56700f5bbe71"
      },
      "execution_count": null,
      "outputs": [
        {
          "output_type": "execute_result",
          "data": {
            "text/plain": [
              "<Graph identifier=N5618c2da2d7645b8b83a05f21d72b9fd (<class 'rdflib.graph.Graph'>)>"
            ]
          },
          "metadata": {},
          "execution_count": 120
        }
      ]
    },
    {
      "cell_type": "markdown",
      "source": [
        "Add triples for instances of all classes"
      ],
      "metadata": {
        "id": "it5Q6HaFIHNC"
      }
    },
    {
      "cell_type": "code",
      "source": [
        "#1\n",
        "lst_of_studs = [\"Ben\", \"John\", \"Peter\", \"Lee\"]\n",
        "lst_of_studs.sort()\n",
        "\n",
        "#2\n",
        "lst_of_profs = [\"James\", \"Fred\", \"Tim\"]\n",
        "lst_of_profs.sort()\n",
        "\n",
        "#3\n",
        "lst_of_courses = [\"Databases\", \"Algorithms\"]\n",
        "lst_of_courses.sort()\n",
        "\n",
        "#4\n",
        "lst_of_Departs = [\"CS\"]\n",
        "lst_of_Departs.sort()\n",
        "\n",
        "#5\n",
        "lst_of_Reschgrps = [\"InfoLab\"]\n",
        "lst_of_Reschgrps.sort()\n",
        "\n",
        "\n",
        "print(\"Student = \", lst_of_studs)\n",
        "print(\"Professor = \", lst_of_profs)\n",
        "print(\"Courses = \", lst_of_courses)\n",
        "print(\"Department = \", lst_of_Departs)\n",
        "print(\"ResearchGrp = \", lst_of_Reschgrps)"
      ],
      "metadata": {
        "colab": {
          "base_uri": "https://localhost:8080/"
        },
        "id": "xMzHnJbrjzZs",
        "outputId": "89a1fc23-c016-4a7f-cb67-7033cdc8e8fc"
      },
      "execution_count": null,
      "outputs": [
        {
          "output_type": "stream",
          "name": "stdout",
          "text": [
            "Student =  ['Ben', 'John', 'Lee', 'Peter']\n",
            "Professor =  ['Fred', 'James', 'Tim']\n",
            "Courses =  ['Algorithms', 'Databases']\n",
            "Department =  ['CS']\n",
            "ResearchGrp =  ['InfoLab']\n"
          ]
        }
      ]
    },
    {
      "cell_type": "markdown",
      "source": [
        "**Instances of the `Student Class`**"
      ],
      "metadata": {
        "id": "kd2_XNl7lBLd"
      }
    },
    {
      "cell_type": "code",
      "source": [
        "# For \"Ben\"\n",
        "graph.add((ex.student1, RDF.type, ex.Student))\n",
        "graph.add((ex.student1, ex.advisor, ex.professor4))\n",
        "graph.add((ex.student1, ex.takes, ex.course2))\n",
        "\n",
        "# For \"John\"\n",
        "graph.add((ex.student2, RDF.type, ex.Student))\n",
        "graph.add((ex.student2, ex.advisor, ex.professor1))\n",
        "graph.add((ex.student2, ex.takes, ex.course2))\n",
        "\n",
        "# For \"Lee\"\n",
        "graph.add((ex.student3, RDF.type, ex.Student))\n",
        "graph.add((ex.student3, ex.advisor, ex.professor2))\n",
        "graph.add((ex.student3, ex.takes, ex.course1))\n",
        "\n",
        "\n",
        "# For \"Peter\"\n",
        "graph.add((ex.student4, RDF.type, ex.Student))\n",
        "graph.add((ex.student4, ex.advisor, ex.professor2))\n",
        "graph.add((ex.student4, ex.takes, ex.course1))"
      ],
      "metadata": {
        "colab": {
          "base_uri": "https://localhost:8080/"
        },
        "id": "vzHcVUKHIHKS",
        "outputId": "f7a9f8e1-6876-4b67-9ffb-949b4636541c"
      },
      "execution_count": null,
      "outputs": [
        {
          "output_type": "execute_result",
          "data": {
            "text/plain": [
              "<Graph identifier=N5618c2da2d7645b8b83a05f21d72b9fd (<class 'rdflib.graph.Graph'>)>"
            ]
          },
          "metadata": {},
          "execution_count": 122
        }
      ]
    },
    {
      "cell_type": "markdown",
      "source": [
        "**Instances of the `Course Class`**"
      ],
      "metadata": {
        "id": "dMjqy8YRgE1q"
      }
    },
    {
      "cell_type": "code",
      "source": [
        "graph.add((ex.course1, RDF.type, ex.Course))\n",
        "graph.add((ex.course2, RDF.type, ex.Course))"
      ],
      "metadata": {
        "colab": {
          "base_uri": "https://localhost:8080/"
        },
        "id": "js6pd7LfgNCV",
        "outputId": "d4cc97e0-9d6e-4581-d262-ba57aab4f62c"
      },
      "execution_count": null,
      "outputs": [
        {
          "output_type": "execute_result",
          "data": {
            "text/plain": [
              "<Graph identifier=N5618c2da2d7645b8b83a05f21d72b9fd (<class 'rdflib.graph.Graph'>)>"
            ]
          },
          "metadata": {},
          "execution_count": 123
        }
      ]
    },
    {
      "cell_type": "markdown",
      "source": [
        "**Instances of the `Department Class`**"
      ],
      "metadata": {
        "id": "eX6QMERL2URx"
      }
    },
    {
      "cell_type": "code",
      "source": [
        "graph.add((ex.department, RDF.type, ex.Department))"
      ],
      "metadata": {
        "colab": {
          "base_uri": "https://localhost:8080/"
        },
        "id": "FtWqyOzD2Tlj",
        "outputId": "266e6c15-6840-4461-ce04-98948ce626b7"
      },
      "execution_count": null,
      "outputs": [
        {
          "output_type": "execute_result",
          "data": {
            "text/plain": [
              "<Graph identifier=N5618c2da2d7645b8b83a05f21d72b9fd (<class 'rdflib.graph.Graph'>)>"
            ]
          },
          "metadata": {},
          "execution_count": 124
        }
      ]
    },
    {
      "cell_type": "markdown",
      "source": [
        "**Instances of the `Professor Class`**"
      ],
      "metadata": {
        "id": "a2qRBcTazolM"
      }
    },
    {
      "cell_type": "code",
      "source": [
        "# For \"Fred\"\n",
        "graph.add((ex.professor1, RDF.type, ex.Professor))\n",
        "graph.add((ex.professor1, ex.worksFor, ex.department))\n",
        "graph.add((ex.professor1, ex.teaches, ex.course2))\n",
        "\n",
        "\n",
        "# For \"James\"\n",
        "graph.add((ex.professor2, RDF.type, ex.Professor))\n",
        "graph.add((ex.professor2, ex.worksFor, ex.department))\n",
        "graph.add((ex.professor2, ex.teaches, ex.course1))\n",
        "\n",
        "\n",
        "# For \"Tim\"\n",
        "graph.add((ex.professor3, RDF.type, ex.Professor))\n",
        "graph.add((ex.professor3, ex.teaches, ex.course2))\n"
      ],
      "metadata": {
        "colab": {
          "base_uri": "https://localhost:8080/"
        },
        "id": "aWjujjRB0Jfu",
        "outputId": "4e7de571-1dbf-4fe7-9d4c-7df630aadf81"
      },
      "execution_count": null,
      "outputs": [
        {
          "output_type": "execute_result",
          "data": {
            "text/plain": [
              "<Graph identifier=N5618c2da2d7645b8b83a05f21d72b9fd (<class 'rdflib.graph.Graph'>)>"
            ]
          },
          "metadata": {},
          "execution_count": 125
        }
      ]
    },
    {
      "cell_type": "markdown",
      "source": [
        "**Instances of the `Research_group Class`**"
      ],
      "metadata": {
        "id": "_kCEyqFz2eEO"
      }
    },
    {
      "cell_type": "code",
      "source": [
        "graph.add((ex.researchgrp, RDF.type, ex.ResearchGrp))"
      ],
      "metadata": {
        "colab": {
          "base_uri": "https://localhost:8080/"
        },
        "id": "se6gr2CF2d27",
        "outputId": "5c2fbb6c-84af-4af2-ba01-d9d08a4b7de3"
      },
      "execution_count": null,
      "outputs": [
        {
          "output_type": "execute_result",
          "data": {
            "text/plain": [
              "<Graph identifier=N5618c2da2d7645b8b83a05f21d72b9fd (<class 'rdflib.graph.Graph'>)>"
            ]
          },
          "metadata": {},
          "execution_count": 126
        }
      ]
    },
    {
      "cell_type": "markdown",
      "source": [
        "**Assertion**"
      ],
      "metadata": {
        "id": "3I4R7LHBzpcK"
      }
    },
    {
      "cell_type": "code",
      "source": [
        "\n",
        "#Students ['Ben', 'John', 'Lee', 'Peter']\n",
        "graph.add((ex.student1, ex.name, Literal(\"Ben\")))\n",
        "graph.add((ex.student2, ex.name, Literal(\"John\")))\n",
        "graph.add((ex.student3, ex.name, Literal(\"Lee\")))\n",
        "graph.add((ex.student4, ex.name, Literal(\"Peter\")))\n",
        "\n",
        "\n",
        "#Courses ['Algorithms', 'Databases']\n",
        "graph.add((ex.course1, ex.name, Literal(\"Databases\")))\n",
        "graph.add((ex.course2, ex.name, Literal(\"Algorithms\")))\n",
        "\n",
        "\n",
        "#Departments ['CS']\n",
        "graph.add((ex.department1, ex.name, Literal(\"CS\")))\n",
        "\n",
        "\n",
        "#Professors ['Fred', 'James', 'Tim']\n",
        "graph.add((ex.professor1, ex.name, Literal(\"Fred\")))\n",
        "graph.add((ex.professor2, ex.name, Literal(\"James\")))\n",
        "graph.add((ex.professor3, ex.name, Literal(\"Tim\")))\n",
        "graph.add((ex.professor4, ex.name, Literal(\"Lisa\")))\n",
        "\n",
        "\n",
        "\n",
        "#ReseachGrp ['InfoLab']\n",
        "graph.add((ex.researchgrp, ex.name, Literal(\"InfoLab\")))"
      ],
      "metadata": {
        "colab": {
          "base_uri": "https://localhost:8080/"
        },
        "id": "wk5o_e160IC_",
        "outputId": "dc92264b-d66d-4a18-9bfe-5aacdb835a68"
      },
      "execution_count": null,
      "outputs": [
        {
          "output_type": "execute_result",
          "data": {
            "text/plain": [
              "<Graph identifier=N5618c2da2d7645b8b83a05f21d72b9fd (<class 'rdflib.graph.Graph'>)>"
            ]
          },
          "metadata": {},
          "execution_count": 127
        }
      ]
    },
    {
      "cell_type": "code",
      "source": [
        "#Save the turtle file\n",
        "with open(\"rdf_graph.ttl\", \"w\") as fptr:\n",
        "    fptr.write(graph.serialize(format=\"turtle\"))"
      ],
      "metadata": {
        "id": "T4PJ48I_0H_f"
      },
      "execution_count": null,
      "outputs": []
    },
    {
      "cell_type": "code",
      "source": [],
      "metadata": {
        "id": "jMvWeVCVCydC"
      },
      "execution_count": null,
      "outputs": []
    },
    {
      "cell_type": "code",
      "source": [],
      "metadata": {
        "id": "qA7gClva0H8z"
      },
      "execution_count": null,
      "outputs": []
    }
  ]
}